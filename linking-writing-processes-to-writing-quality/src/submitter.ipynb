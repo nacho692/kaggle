{
 "cells": [
  {
   "cell_type": "code",
   "execution_count": 83,
   "id": "initial_id",
   "metadata": {
    "collapsed": true,
    "ExecuteTime": {
     "end_time": "2023-11-22T21:04:04.760047642Z",
     "start_time": "2023-11-22T21:04:04.752449918Z"
    }
   },
   "outputs": [],
   "source": [
    "import pandas as pd\n",
    "import numpy as np\n",
    "import skops.io as sio"
   ]
  },
  {
   "cell_type": "code",
   "execution_count": 86,
   "outputs": [],
   "source": [
    "model_path = '../model_weights/Random Forest.skops'\n",
    "output_path = '../processed/submission.csv'"
   ],
   "metadata": {
    "collapsed": false,
    "ExecuteTime": {
     "end_time": "2023-11-22T21:06:52.509775550Z",
     "start_time": "2023-11-22T21:06:52.498671638Z"
    }
   },
   "id": "606d9b99df877fd9"
  },
  {
   "cell_type": "code",
   "execution_count": 63,
   "outputs": [],
   "source": [
    "def back_track_col(df):\n",
    "    df.loc[:, 'prev_cursor_position'] = df.groupby('id').cursor_position.shift(1, fill_value=0) \n",
    "    print(df.columns)\n",
    "    df['back_track'] = df['cursor_position'] - df['prev_cursor_position']\n",
    "    df = df.drop('prev_cursor_position', axis=1)\n",
    "    df[df['back_track']<0]['back_track'] = 0\n",
    "    return df"
   ],
   "metadata": {
    "collapsed": false,
    "ExecuteTime": {
     "end_time": "2023-11-22T20:41:27.257025665Z",
     "start_time": "2023-11-22T20:41:27.238405253Z"
    }
   },
   "id": "5ce4daf6832f0924"
  },
  {
   "cell_type": "code",
   "execution_count": 64,
   "outputs": [],
   "source": [
    "def summarization_base(df):\n",
    "    summarization_df = df.groupby('id').agg(\n",
    "    word_count=('word_count', 'max'),\n",
    "    action_time_mean=('action_time', 'mean'),\n",
    "    action_time_max=('action_time', 'max'),\n",
    "    action_time_total=('action_time', 'sum'),\n",
    "    action_time_50=('action_time', 'median'),\n",
    "    event_count = ('event_id', lambda x: np.count_nonzero(x)),\n",
    "    paste_count=('activity', lambda x: np.count_nonzero(x == 'Paste')),\n",
    "    move_activity=('activity', lambda x: np.count_nonzero(x.str.startswith('Move'))),\n",
    "    nonproduction_count=('activity', lambda x: np.count_nonzero(x == 'Nonproduction')),\n",
    "    input_count=('activity', lambda x: np.count_nonzero(x == 'Input')),\n",
    "    remove_cut_count=('activity', lambda x: np.count_nonzero(x == 'Remove/Cut')),\n",
    "    replace_count=('activity', lambda x: np.count_nonzero(x == 'Replace')),\n",
    "    nochange_count=('text_change', lambda x: np.count_nonzero(x == 'NoChange')),\n",
    "    capslock_count=('down_event', lambda x: np.count_nonzero(x == 'CapsLock')),\n",
    "    paragraph_count=('down_event', lambda x: np.count_nonzero(x == 'Enter')),\n",
    "    space_count=('down_event', lambda x: np.count_nonzero(x == 'Space')),\n",
    "    question_count=('down_event', lambda x: np.count_nonzero(x == '?')),\n",
    "    exclamation_count=('down_event', lambda x: np.count_nonzero(x == '!')),\n",
    "    sub_texts_count=('down_event', lambda x: np.count_nonzero(x.isin(['(', '[', '{']))),\n",
    "    amount_back_track  =('back_track', lambda x: np.count_nonzero(x)),\n",
    "    mean_back_track = ('back_track', lambda x: np.sum(x)/np.count_nonzero(x)),\n",
    "    max_back_track = ('back_track', 'max'),\n",
    "    median_back_track = ('back_track', lambda x: np.median(x[x > 0])),\n",
    "    one_back_track = ('back_track', lambda x: len(x[x == 1]))  \n",
    ").reset_index()\n",
    "    return summarization_df"
   ],
   "metadata": {
    "collapsed": false,
    "ExecuteTime": {
     "end_time": "2023-11-22T20:41:28.213044365Z",
     "start_time": "2023-11-22T20:41:28.185982301Z"
    }
   },
   "id": "39c47d646680bc9a"
  },
  {
   "cell_type": "code",
   "execution_count": 65,
   "outputs": [],
   "source": [
    "testf = pd.read_csv('../data/test_logs.csv')"
   ],
   "metadata": {
    "collapsed": false,
    "ExecuteTime": {
     "end_time": "2023-11-22T20:41:29.357030683Z",
     "start_time": "2023-11-22T20:41:29.321265619Z"
    }
   },
   "id": "fbb41585471da496"
  },
  {
   "cell_type": "code",
   "execution_count": 72,
   "outputs": [
    {
     "name": "stdout",
     "output_type": "stream",
     "text": [
      "Index(['id', 'event_id', 'down_time', 'up_time', 'action_time', 'activity',\n",
      "       'down_event', 'up_event', 'text_change', 'cursor_position',\n",
      "       'word_count', 'prev_cursor_position', 'back_track'],\n",
      "      dtype='object')\n"
     ]
    },
    {
     "data": {
      "text/plain": "         id  word_count  action_time_mean  action_time_max  action_time_total  \\\n0  0000aaaa           0              86.0               87                172   \n1  2222bbbb           1              56.5               67                113   \n2  4444cccc           3              71.2               94                356   \n\n   action_time_50  event_count  paste_count  move_activity  \\\n0            86.0            2            0              0   \n1            56.5            2            0              0   \n2            56.0            5            0              1   \n\n   nonproduction_count  ...  paragraph_count  space_count  question_count  \\\n0                    0  ...                0            2               0   \n1                    0  ...                0            0               0   \n2                    0  ...                0            2               0   \n\n   exclamation_count  sub_texts_count  amount_back_track  mean_back_track  \\\n0                  0                0                  1              1.0   \n1                  0                0                  1              1.0   \n2                  0                0                  3              1.0   \n\n   max_back_track  median_back_track  one_back_track  \n0               1                1.0               1  \n1               1                1.0               1  \n2               1                1.0               3  \n\n[3 rows x 25 columns]",
      "text/html": "<div>\n<style scoped>\n    .dataframe tbody tr th:only-of-type {\n        vertical-align: middle;\n    }\n\n    .dataframe tbody tr th {\n        vertical-align: top;\n    }\n\n    .dataframe thead th {\n        text-align: right;\n    }\n</style>\n<table border=\"1\" class=\"dataframe\">\n  <thead>\n    <tr style=\"text-align: right;\">\n      <th></th>\n      <th>id</th>\n      <th>word_count</th>\n      <th>action_time_mean</th>\n      <th>action_time_max</th>\n      <th>action_time_total</th>\n      <th>action_time_50</th>\n      <th>event_count</th>\n      <th>paste_count</th>\n      <th>move_activity</th>\n      <th>nonproduction_count</th>\n      <th>...</th>\n      <th>paragraph_count</th>\n      <th>space_count</th>\n      <th>question_count</th>\n      <th>exclamation_count</th>\n      <th>sub_texts_count</th>\n      <th>amount_back_track</th>\n      <th>mean_back_track</th>\n      <th>max_back_track</th>\n      <th>median_back_track</th>\n      <th>one_back_track</th>\n    </tr>\n  </thead>\n  <tbody>\n    <tr>\n      <th>0</th>\n      <td>0000aaaa</td>\n      <td>0</td>\n      <td>86.0</td>\n      <td>87</td>\n      <td>172</td>\n      <td>86.0</td>\n      <td>2</td>\n      <td>0</td>\n      <td>0</td>\n      <td>0</td>\n      <td>...</td>\n      <td>0</td>\n      <td>2</td>\n      <td>0</td>\n      <td>0</td>\n      <td>0</td>\n      <td>1</td>\n      <td>1.0</td>\n      <td>1</td>\n      <td>1.0</td>\n      <td>1</td>\n    </tr>\n    <tr>\n      <th>1</th>\n      <td>2222bbbb</td>\n      <td>1</td>\n      <td>56.5</td>\n      <td>67</td>\n      <td>113</td>\n      <td>56.5</td>\n      <td>2</td>\n      <td>0</td>\n      <td>0</td>\n      <td>0</td>\n      <td>...</td>\n      <td>0</td>\n      <td>0</td>\n      <td>0</td>\n      <td>0</td>\n      <td>0</td>\n      <td>1</td>\n      <td>1.0</td>\n      <td>1</td>\n      <td>1.0</td>\n      <td>1</td>\n    </tr>\n    <tr>\n      <th>2</th>\n      <td>4444cccc</td>\n      <td>3</td>\n      <td>71.2</td>\n      <td>94</td>\n      <td>356</td>\n      <td>56.0</td>\n      <td>5</td>\n      <td>0</td>\n      <td>1</td>\n      <td>0</td>\n      <td>...</td>\n      <td>0</td>\n      <td>2</td>\n      <td>0</td>\n      <td>0</td>\n      <td>0</td>\n      <td>3</td>\n      <td>1.0</td>\n      <td>1</td>\n      <td>1.0</td>\n      <td>3</td>\n    </tr>\n  </tbody>\n</table>\n<p>3 rows × 25 columns</p>\n</div>"
     },
     "execution_count": 72,
     "metadata": {},
     "output_type": "execute_result"
    }
   ],
   "source": [
    "back_track_col(testf)\n",
    "test_summarized = summarization_base(testf)\n",
    "test_summarized.head()"
   ],
   "metadata": {
    "collapsed": false,
    "ExecuteTime": {
     "end_time": "2023-11-22T20:44:40.284995393Z",
     "start_time": "2023-11-22T20:44:40.226806540Z"
    }
   },
   "id": "2a6f9fa9abd9d926"
  },
  {
   "cell_type": "code",
   "execution_count": 85,
   "outputs": [],
   "source": [
    "clf = sio.load(model_path, trusted=True)\n",
    "predictions = clf.predict(test_summarized.drop('id', axis=1).values)\n",
    "output = test_summarized.copy()\n",
    "output.loc[:, 'score'] = predictions\n",
    "output[['id', 'score']].to_csv(output_path, index=False)"
   ],
   "metadata": {
    "collapsed": false,
    "ExecuteTime": {
     "end_time": "2023-11-22T21:05:13.176870095Z",
     "start_time": "2023-11-22T21:05:13.024144372Z"
    }
   },
   "id": "ae7d98b2ec74317c"
  }
 ],
 "metadata": {
  "kernelspec": {
   "display_name": "Python 3",
   "language": "python",
   "name": "python3"
  },
  "language_info": {
   "codemirror_mode": {
    "name": "ipython",
    "version": 2
   },
   "file_extension": ".py",
   "mimetype": "text/x-python",
   "name": "python",
   "nbconvert_exporter": "python",
   "pygments_lexer": "ipython2",
   "version": "2.7.6"
  }
 },
 "nbformat": 4,
 "nbformat_minor": 5
}
